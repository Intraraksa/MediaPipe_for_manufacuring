{
 "cells": [
  {
   "cell_type": "code",
   "execution_count": 1,
   "metadata": {},
   "outputs": [],
   "source": [
    "import mediapipe as mp\n",
    "import cv2\n",
    "import numpy as np\n",
    "import math\n",
    "\n",
    "mp_pose = mp.solutions.pose\n",
    "mp_draw = mp.solutions.drawing_utils\n",
    "Pose = mp_pose.Pose(static_image_mode=False,\n",
    "    model_complexity=1,\n",
    "    smooth_landmarks=True,\n",
    "    min_detection_confidence=0.4,\n",
    "    min_tracking_confidence=0.5,)"
   ]
  },
  {
   "cell_type": "code",
   "execution_count": 2,
   "metadata": {},
   "outputs": [],
   "source": [
    "def cal_angel(center,pos1,pos2):\n",
    "    # Find length between position\n",
    "    pos_c_1 = np.sqrt(((pos1.x-center.x)**2)+((pos1.y-center.y)**2))\n",
    "    pos_c_2 = np.sqrt(((pos2.x-center.x)**2)+((pos2.y-center.y)**2))\n",
    "    pos_1_2 = np.sqrt(((pos2.x-pos1.x)**2)+((pos2.y-pos1.y)**2))\n",
    "    \n",
    "    radian = np.arccos(((pos_c_1**2)+(pos_c_2**2)-(pos_1_2**2))/(2*pos_c_1*pos_c_2))\n",
    "    angel = radian*180.0/np.pi\n",
    "    return angel"
   ]
  },
  {
   "cell_type": "code",
   "execution_count": null,
   "metadata": {},
   "outputs": [],
   "source": [
    "pos_list = [13,14,15,16,17,18]\n",
    "\n",
    "cap = cv2.VideoCapture('trunnion.mp4')\n",
    "# cap = cv2.VideoCapture(0)\n",
    "while cap.isOpened:\n",
    "#     ret = cap.set(cv2.CAP_PROP_FRAME_HEIGHT,300)\n",
    "#     ret = cap.set(cv2.CAP_PROP_FRAME_WIDTH,480)\n",
    "    ret,frame = cap.read()\n",
    "#     frame = cv2.cvtColor(frame,cv2.COLOR_BGR2RGB)\n",
    "    frame = cv2.resize(frame,(1024,640))\n",
    "    frame.flags.writeable = False\n",
    "    results = Pose.process(frame)\n",
    "    frame.flags.writeable = True\n",
    "    if results.pose_landmarks:\n",
    "#         ps = results.pose_landmarks\n",
    "#         print(ps)\n",
    "        mp_draw.draw_landmarks(frame,results.pose_landmarks,mp_pose.POSE_CONNECTIONS,\n",
    "                              mp_draw.DrawingSpec(color=(200, 15, 190), thickness=2, circle_radius=5),\n",
    "                              mp_draw.DrawingSpec(color=(0, 255, 0), thickness=2, circle_radius=2))\n",
    "        lm = results.pose_landmarks.landmark\n",
    "        l_hip,l_sholder,l_elbow = lm[mp_pose.PoseLandmark.LEFT_HIP.value],lm[mp_pose.PoseLandmark.LEFT_SHOULDER.value],lm[mp_pose.PoseLandmark.LEFT_WRIST.value]\n",
    "        r_hip,r_sholder,r_elbow = lm[mp_pose.PoseLandmark.RIGHT_HIP.value],lm[mp_pose.PoseLandmark.RIGHT_SHOULDER.value],lm[mp_pose.PoseLandmark.RIGHT_WRIST.value]\n",
    "        angle_l = cal_angel(l_sholder,l_hip,l_elbow)\n",
    "        angle_r = cal_angel(r_sholder,r_hip,r_elbow)\n",
    "        if (angle_r >=70) | (angle_l >= 70):\n",
    "            cv2.putText(frame,'Operation in machine please aware',(50,50),cv2.FONT_HERSHEY_COMPLEX,1,(0,0,255),2)\n",
    "#         elif angle_r <70 || angle_l < 70:\n",
    "#             cv2.putText(frame,'Operator work out side',(50,50),cv2.FONT_HERSHEY_PLAIN,1,(225,0,0),2)\n",
    "#     cv2.line(frame,(680,100),(680,400),(0,0,255),3)\n",
    "#     cv2.line(frame,(600,400),(800,400),(0,255,255),3)\n",
    "    cv2.imshow(\"Trunnion\",frame)\n",
    "    if cv2.waitKey(1) == ord('q'):\n",
    "        break\n",
    "cap.release()\n",
    "cv2.destroyAllWindows()"
   ]
  },
  {
   "cell_type": "code",
   "execution_count": 85,
   "metadata": {},
   "outputs": [
    {
     "name": "stderr",
     "output_type": "stream",
     "text": [
      "C:\\Users\\n_int\\Anaconda3\\lib\\site-packages\\ipykernel_launcher.py:7: RuntimeWarning: invalid value encountered in arccos\n",
      "  import sys\n"
     ]
    },
    {
     "data": {
      "text/plain": [
       "nan"
      ]
     },
     "execution_count": 85,
     "metadata": {},
     "output_type": "execute_result"
    }
   ],
   "source": [
    "cal_angel(l_sholder,l_hip,l_elbow)"
   ]
  },
  {
   "cell_type": "code",
   "execution_count": 94,
   "metadata": {},
   "outputs": [
    {
     "data": {
      "text/plain": [
       "42.1110121712825"
      ]
     },
     "execution_count": 94,
     "metadata": {},
     "output_type": "execute_result"
    }
   ],
   "source": [
    "np.abs(0.734975813736286*180.0/np.pi)"
   ]
  },
  {
   "cell_type": "code",
   "execution_count": 65,
   "metadata": {},
   "outputs": [],
   "source": [
    "xx = [400,400]\n",
    "yy = [400,600]\n",
    "zz = [600,400]"
   ]
  },
  {
   "cell_type": "code",
   "execution_count": 67,
   "metadata": {},
   "outputs": [
    {
     "data": {
      "text/plain": [
       "25"
      ]
     },
     "execution_count": 67,
     "metadata": {},
     "output_type": "execute_result"
    }
   ],
   "source": [
    "5**2"
   ]
  },
  {
   "cell_type": "code",
   "execution_count": 70,
   "metadata": {},
   "outputs": [
    {
     "data": {
      "text/plain": [
       "2.0"
      ]
     },
     "execution_count": 70,
     "metadata": {},
     "output_type": "execute_result"
    }
   ],
   "source": [
    "np.sqrt(4)"
   ]
  },
  {
   "cell_type": "code",
   "execution_count": 98,
   "metadata": {},
   "outputs": [],
   "source": [
    "a = 8\n",
    "b = 6\n",
    "c = 7"
   ]
  },
  {
   "cell_type": "code",
   "execution_count": 102,
   "metadata": {},
   "outputs": [
    {
     "data": {
      "text/plain": [
       "0.53125"
      ]
     },
     "execution_count": 102,
     "metadata": {},
     "output_type": "execute_result"
    }
   ],
   "source": [
    "((a**2)+(b**2)-(c**2))/(2*a*b)"
   ]
  },
  {
   "cell_type": "code",
   "execution_count": 104,
   "metadata": {},
   "outputs": [
    {
     "data": {
      "text/plain": [
       "1.0110160777227413"
      ]
     },
     "execution_count": 104,
     "metadata": {},
     "output_type": "execute_result"
    }
   ],
   "source": [
    "np.arccos(0.531)"
   ]
  },
  {
   "cell_type": "code",
   "execution_count": 105,
   "metadata": {},
   "outputs": [
    {
     "data": {
      "text/plain": [
       "57.92695427338349"
      ]
     },
     "execution_count": 105,
     "metadata": {},
     "output_type": "execute_result"
    }
   ],
   "source": [
    "(1.0110160777227413*180.0/np.pi)"
   ]
  },
  {
   "cell_type": "code",
   "execution_count": null,
   "metadata": {},
   "outputs": [],
   "source": [
    "pos_list = [13,14,15,16,17,18]\n",
    "\n",
    "cap = cv2.VideoCapture('trunnion.mp4')\n",
    "# cap = cv2.VideoCapture(0)\n",
    "while cap.isOpened:\n",
    "#     ret = cap.set(cv2.CAP_PROP_FRAME_HEIGHT,300)\n",
    "#     ret = cap.set(cv2.CAP_PROP_FRAME_WIDTH,480)\n",
    "    ret,frame = cap.read()\n",
    "    frame = cv2.resize(frame,(1024,640))\n",
    "    frame.flags.writeable = False\n",
    "    results = Pose.process(frame)\n",
    "    frame.flags.writeable = True\n",
    "    if results.pose_landmarks:\n",
    "#         ps = results.pose_landmarks\n",
    "#         print(ps)\n",
    "        mp_draw.draw_landmarks(frame,results.pose_landmarks,mp_pose.POSE_CONNECTIONS,\n",
    "                              mp_draw.DrawingSpec(color=(200, 15, 190), thickness=2, circle_radius=5),\n",
    "                              mp_draw.DrawingSpec(color=(0, 255, 0), thickness=2, circle_radius=2))\n",
    "        lm = results.pose_landmarks.landmark\n",
    "        l_hip,l_sholder,l_elbow = lm[mp_pose.PoseLandmark.LEFT_HIP.value],lm[mp_pose.PoseLandmark.LEFT_SHOULDER.value],lm[mp_pose.PoseLandmark.LEFT_WRIST.value]\n",
    "#         l_hip,l_sholder,l_elbow = lm[mp_pose.PoseLandmark.RIGHT_HIP.value],lm[mp_pose.PoseLandmark.RIGHT_SHOULDER.value],lm[mp_pose.PoseLandmark.RIGHT_WRIST.value]\n",
    "        angel = cal_angel(l_sholder,l_hip,l_elbow)\n",
    "        cv2.putText(frame,f'{angel}',(50,50),cv2.FONT_HERSHEY_PLAIN,1,(0,0,255),2)\n",
    "#     cv2.line(frame,(680,100),(680,400),(0,0,255),3)\n",
    "#     cv2.line(frame,(600,400),(800,400),(0,255,255),3)\n",
    "    cv2.imshow(\"Trunnion\",frame)\n",
    "    if cv2.waitKey(1) == ord('q'):\n",
    "        break\n",
    "cap.release()\n",
    "cv2.destroyAllWindows()"
   ]
  }
 ],
 "metadata": {
  "kernelspec": {
   "display_name": "Python 3",
   "language": "python",
   "name": "python3"
  },
  "language_info": {
   "codemirror_mode": {
    "name": "ipython",
    "version": 3
   },
   "file_extension": ".py",
   "mimetype": "text/x-python",
   "name": "python",
   "nbconvert_exporter": "python",
   "pygments_lexer": "ipython3",
   "version": "3.7.3"
  }
 },
 "nbformat": 4,
 "nbformat_minor": 2
}
